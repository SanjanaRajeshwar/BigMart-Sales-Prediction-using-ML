{
 "cells": [
  {
   "cell_type": "markdown",
   "id": "854b53e9-092a-43d7-85af-64bf95cb3783",
   "metadata": {},
   "source": [
    "# BigMart Sales Prediction"
   ]
  },
  {
   "cell_type": "markdown",
   "id": "a36711cc-b08f-460c-a849-d7dcb1109e32",
   "metadata": {},
   "source": [
    "## Importing Libraries"
   ]
  },
  {
   "cell_type": "code",
   "execution_count": 1,
   "id": "a9c40ee4-4935-4d24-b45c-7eabc2bbed35",
   "metadata": {},
   "outputs": [],
   "source": [
    "import numpy as np \n",
    "import pandas as pd \n",
    "import seaborn as sns\n",
    "import matplotlib.pyplot as plt\n",
    "%matplotlib inline\n",
    "import os\n",
    "\n",
    "from sklearn.impute import KNNImputer\n",
    "from sklearn.metrics import accuracy_score, mean_squared_error\n",
    "from sklearn.preprocessing import OneHotEncoder\n",
    "from sklearn.preprocessing import StandardScaler, LabelEncoder\n",
    "\n",
    "from sklearn import *\n",
    "\n",
    "from sklearn.svm import SVR\n",
    "from sklearn.svm import LinearSVR\n",
    "from sklearn.linear_model import Lasso\n",
    "from sklearn.linear_model import ElasticNet\n",
    "from sklearn.linear_model import SGDRegressor\n",
    "from sklearn.linear_model import BayesianRidge\n",
    "from sklearn import linear_model\n",
    "from sklearn.ensemble import StackingRegressor\n",
    "from sklearn.ensemble import AdaBoostRegressor\n",
    "from sklearn.ensemble import GradientBoostingRegressor\n",
    "from sklearn.tree import DecisionTreeRegressor\n",
    "from sklearn.linear_model import LinearRegression\n",
    "from sklearn.neighbors import KNeighborsRegressor\n",
    "from sklearn.ensemble import RandomForestRegressor\n",
    "from xgboost import XGBRegressor\n",
    "from sklearn.model_selection import train_test_split\n",
    "from sklearn.pipeline import make_pipeline\n",
    "\n",
    "import warnings\n",
    "np.random.seed(0)\n",
    "warnings.filterwarnings('ignore')"
   ]
  },
  {
   "cell_type": "markdown",
   "id": "a9391d2d-4285-40d5-b009-aee98bd952ae",
   "metadata": {},
   "source": [
    "## Reading the Test and Train CSV Files"
   ]
  },
  {
   "cell_type": "code",
   "execution_count": 2,
   "id": "7c15f4ae-8c5b-4024-a422-21bece830136",
   "metadata": {},
   "outputs": [],
   "source": [
    "train = pd.read_csv('Train.csv')\n",
    "test = pd.read_csv('Test.csv')"
   ]
  },
  {
   "cell_type": "code",
   "execution_count": 3,
   "id": "6cc1159e-7590-4c5f-b075-529b86cdab6f",
   "metadata": {},
   "outputs": [
    {
     "data": {
      "text/plain": [
       "((8523, 12), (5681, 11))"
      ]
     },
     "execution_count": 3,
     "metadata": {},
     "output_type": "execute_result"
    }
   ],
   "source": [
    "train.shape, test.shape"
   ]
  },
  {
   "cell_type": "code",
   "execution_count": 4,
   "id": "1d035f19-a639-4dc6-9f1d-37dc88dea7ec",
   "metadata": {},
   "outputs": [
    {
     "data": {
      "text/html": [
       "<div>\n",
       "<style scoped>\n",
       "    .dataframe tbody tr th:only-of-type {\n",
       "        vertical-align: middle;\n",
       "    }\n",
       "\n",
       "    .dataframe tbody tr th {\n",
       "        vertical-align: top;\n",
       "    }\n",
       "\n",
       "    .dataframe thead th {\n",
       "        text-align: right;\n",
       "    }\n",
       "</style>\n",
       "<table border=\"1\" class=\"dataframe\">\n",
       "  <thead>\n",
       "    <tr style=\"text-align: right;\">\n",
       "      <th></th>\n",
       "      <th>Item_Identifier</th>\n",
       "      <th>Item_Weight</th>\n",
       "      <th>Item_Fat_Content</th>\n",
       "      <th>Item_Visibility</th>\n",
       "      <th>Item_Type</th>\n",
       "      <th>Item_MRP</th>\n",
       "      <th>Outlet_Identifier</th>\n",
       "      <th>Outlet_Establishment_Year</th>\n",
       "      <th>Outlet_Size</th>\n",
       "      <th>Outlet_Location_Type</th>\n",
       "      <th>Outlet_Type</th>\n",
       "      <th>Item_Outlet_Sales</th>\n",
       "    </tr>\n",
       "  </thead>\n",
       "  <tbody>\n",
       "    <tr>\n",
       "      <th>0</th>\n",
       "      <td>FDA15</td>\n",
       "      <td>9.30</td>\n",
       "      <td>Low Fat</td>\n",
       "      <td>0.016047</td>\n",
       "      <td>Dairy</td>\n",
       "      <td>249.8092</td>\n",
       "      <td>OUT049</td>\n",
       "      <td>1999</td>\n",
       "      <td>Medium</td>\n",
       "      <td>Tier 1</td>\n",
       "      <td>Supermarket Type1</td>\n",
       "      <td>3735.1380</td>\n",
       "    </tr>\n",
       "    <tr>\n",
       "      <th>1</th>\n",
       "      <td>DRC01</td>\n",
       "      <td>5.92</td>\n",
       "      <td>Regular</td>\n",
       "      <td>0.019278</td>\n",
       "      <td>Soft Drinks</td>\n",
       "      <td>48.2692</td>\n",
       "      <td>OUT018</td>\n",
       "      <td>2009</td>\n",
       "      <td>Medium</td>\n",
       "      <td>Tier 3</td>\n",
       "      <td>Supermarket Type2</td>\n",
       "      <td>443.4228</td>\n",
       "    </tr>\n",
       "    <tr>\n",
       "      <th>2</th>\n",
       "      <td>FDN15</td>\n",
       "      <td>17.50</td>\n",
       "      <td>Low Fat</td>\n",
       "      <td>0.016760</td>\n",
       "      <td>Meat</td>\n",
       "      <td>141.6180</td>\n",
       "      <td>OUT049</td>\n",
       "      <td>1999</td>\n",
       "      <td>Medium</td>\n",
       "      <td>Tier 1</td>\n",
       "      <td>Supermarket Type1</td>\n",
       "      <td>2097.2700</td>\n",
       "    </tr>\n",
       "    <tr>\n",
       "      <th>3</th>\n",
       "      <td>FDX07</td>\n",
       "      <td>19.20</td>\n",
       "      <td>Regular</td>\n",
       "      <td>0.000000</td>\n",
       "      <td>Fruits and Vegetables</td>\n",
       "      <td>182.0950</td>\n",
       "      <td>OUT010</td>\n",
       "      <td>1998</td>\n",
       "      <td>NaN</td>\n",
       "      <td>Tier 3</td>\n",
       "      <td>Grocery Store</td>\n",
       "      <td>732.3800</td>\n",
       "    </tr>\n",
       "    <tr>\n",
       "      <th>4</th>\n",
       "      <td>NCD19</td>\n",
       "      <td>8.93</td>\n",
       "      <td>Low Fat</td>\n",
       "      <td>0.000000</td>\n",
       "      <td>Household</td>\n",
       "      <td>53.8614</td>\n",
       "      <td>OUT013</td>\n",
       "      <td>1987</td>\n",
       "      <td>High</td>\n",
       "      <td>Tier 3</td>\n",
       "      <td>Supermarket Type1</td>\n",
       "      <td>994.7052</td>\n",
       "    </tr>\n",
       "  </tbody>\n",
       "</table>\n",
       "</div>"
      ],
      "text/plain": [
       "  Item_Identifier  Item_Weight Item_Fat_Content  Item_Visibility  \\\n",
       "0           FDA15         9.30          Low Fat         0.016047   \n",
       "1           DRC01         5.92          Regular         0.019278   \n",
       "2           FDN15        17.50          Low Fat         0.016760   \n",
       "3           FDX07        19.20          Regular         0.000000   \n",
       "4           NCD19         8.93          Low Fat         0.000000   \n",
       "\n",
       "               Item_Type  Item_MRP Outlet_Identifier  \\\n",
       "0                  Dairy  249.8092            OUT049   \n",
       "1            Soft Drinks   48.2692            OUT018   \n",
       "2                   Meat  141.6180            OUT049   \n",
       "3  Fruits and Vegetables  182.0950            OUT010   \n",
       "4              Household   53.8614            OUT013   \n",
       "\n",
       "   Outlet_Establishment_Year Outlet_Size Outlet_Location_Type  \\\n",
       "0                       1999      Medium               Tier 1   \n",
       "1                       2009      Medium               Tier 3   \n",
       "2                       1999      Medium               Tier 1   \n",
       "3                       1998         NaN               Tier 3   \n",
       "4                       1987        High               Tier 3   \n",
       "\n",
       "         Outlet_Type  Item_Outlet_Sales  \n",
       "0  Supermarket Type1          3735.1380  \n",
       "1  Supermarket Type2           443.4228  \n",
       "2  Supermarket Type1          2097.2700  \n",
       "3      Grocery Store           732.3800  \n",
       "4  Supermarket Type1           994.7052  "
      ]
     },
     "execution_count": 4,
     "metadata": {},
     "output_type": "execute_result"
    }
   ],
   "source": [
    "train.head()"
   ]
  },
  {
   "cell_type": "code",
   "execution_count": 5,
   "id": "e5760f79-74c2-4603-a094-a75b77b188bf",
   "metadata": {},
   "outputs": [
    {
     "data": {
      "text/html": [
       "<div>\n",
       "<style scoped>\n",
       "    .dataframe tbody tr th:only-of-type {\n",
       "        vertical-align: middle;\n",
       "    }\n",
       "\n",
       "    .dataframe tbody tr th {\n",
       "        vertical-align: top;\n",
       "    }\n",
       "\n",
       "    .dataframe thead th {\n",
       "        text-align: right;\n",
       "    }\n",
       "</style>\n",
       "<table border=\"1\" class=\"dataframe\">\n",
       "  <thead>\n",
       "    <tr style=\"text-align: right;\">\n",
       "      <th></th>\n",
       "      <th>Item_Identifier</th>\n",
       "      <th>Item_Weight</th>\n",
       "      <th>Item_Fat_Content</th>\n",
       "      <th>Item_Visibility</th>\n",
       "      <th>Item_Type</th>\n",
       "      <th>Item_MRP</th>\n",
       "      <th>Outlet_Identifier</th>\n",
       "      <th>Outlet_Establishment_Year</th>\n",
       "      <th>Outlet_Size</th>\n",
       "      <th>Outlet_Location_Type</th>\n",
       "      <th>Outlet_Type</th>\n",
       "    </tr>\n",
       "  </thead>\n",
       "  <tbody>\n",
       "    <tr>\n",
       "      <th>0</th>\n",
       "      <td>FDW58</td>\n",
       "      <td>20.750</td>\n",
       "      <td>Low Fat</td>\n",
       "      <td>0.007565</td>\n",
       "      <td>Snack Foods</td>\n",
       "      <td>107.8622</td>\n",
       "      <td>OUT049</td>\n",
       "      <td>1999</td>\n",
       "      <td>Medium</td>\n",
       "      <td>Tier 1</td>\n",
       "      <td>Supermarket Type1</td>\n",
       "    </tr>\n",
       "    <tr>\n",
       "      <th>1</th>\n",
       "      <td>FDW14</td>\n",
       "      <td>8.300</td>\n",
       "      <td>reg</td>\n",
       "      <td>0.038428</td>\n",
       "      <td>Dairy</td>\n",
       "      <td>87.3198</td>\n",
       "      <td>OUT017</td>\n",
       "      <td>2007</td>\n",
       "      <td>NaN</td>\n",
       "      <td>Tier 2</td>\n",
       "      <td>Supermarket Type1</td>\n",
       "    </tr>\n",
       "    <tr>\n",
       "      <th>2</th>\n",
       "      <td>NCN55</td>\n",
       "      <td>14.600</td>\n",
       "      <td>Low Fat</td>\n",
       "      <td>0.099575</td>\n",
       "      <td>Others</td>\n",
       "      <td>241.7538</td>\n",
       "      <td>OUT010</td>\n",
       "      <td>1998</td>\n",
       "      <td>NaN</td>\n",
       "      <td>Tier 3</td>\n",
       "      <td>Grocery Store</td>\n",
       "    </tr>\n",
       "    <tr>\n",
       "      <th>3</th>\n",
       "      <td>FDQ58</td>\n",
       "      <td>7.315</td>\n",
       "      <td>Low Fat</td>\n",
       "      <td>0.015388</td>\n",
       "      <td>Snack Foods</td>\n",
       "      <td>155.0340</td>\n",
       "      <td>OUT017</td>\n",
       "      <td>2007</td>\n",
       "      <td>NaN</td>\n",
       "      <td>Tier 2</td>\n",
       "      <td>Supermarket Type1</td>\n",
       "    </tr>\n",
       "    <tr>\n",
       "      <th>4</th>\n",
       "      <td>FDY38</td>\n",
       "      <td>NaN</td>\n",
       "      <td>Regular</td>\n",
       "      <td>0.118599</td>\n",
       "      <td>Dairy</td>\n",
       "      <td>234.2300</td>\n",
       "      <td>OUT027</td>\n",
       "      <td>1985</td>\n",
       "      <td>Medium</td>\n",
       "      <td>Tier 3</td>\n",
       "      <td>Supermarket Type3</td>\n",
       "    </tr>\n",
       "  </tbody>\n",
       "</table>\n",
       "</div>"
      ],
      "text/plain": [
       "  Item_Identifier  Item_Weight Item_Fat_Content  Item_Visibility    Item_Type  \\\n",
       "0           FDW58       20.750          Low Fat         0.007565  Snack Foods   \n",
       "1           FDW14        8.300              reg         0.038428        Dairy   \n",
       "2           NCN55       14.600          Low Fat         0.099575       Others   \n",
       "3           FDQ58        7.315          Low Fat         0.015388  Snack Foods   \n",
       "4           FDY38          NaN          Regular         0.118599        Dairy   \n",
       "\n",
       "   Item_MRP Outlet_Identifier  Outlet_Establishment_Year Outlet_Size  \\\n",
       "0  107.8622            OUT049                       1999      Medium   \n",
       "1   87.3198            OUT017                       2007         NaN   \n",
       "2  241.7538            OUT010                       1998         NaN   \n",
       "3  155.0340            OUT017                       2007         NaN   \n",
       "4  234.2300            OUT027                       1985      Medium   \n",
       "\n",
       "  Outlet_Location_Type        Outlet_Type  \n",
       "0               Tier 1  Supermarket Type1  \n",
       "1               Tier 2  Supermarket Type1  \n",
       "2               Tier 3      Grocery Store  \n",
       "3               Tier 2  Supermarket Type1  \n",
       "4               Tier 3  Supermarket Type3  "
      ]
     },
     "execution_count": 5,
     "metadata": {},
     "output_type": "execute_result"
    }
   ],
   "source": [
    "test.head()"
   ]
  },
  {
   "cell_type": "markdown",
   "id": "ad1c6deb-d476-4e3f-9259-758e800d0c4d",
   "metadata": {},
   "source": [
    "## Data Cleaning and Pre-Processing of Train Dataset"
   ]
  },
  {
   "cell_type": "markdown",
   "id": "7a7ab515-e895-4e1d-ba6a-9e542ecd3591",
   "metadata": {},
   "source": [
    "### - Renaming and Analysing the dataset\n",
    "### - Filling the missing values (if any) using mean for numerical attributes and mode for categorical attributes\n",
    "### - Ensuring that the values with same meaning are not written in different ways in categorical columns"
   ]
  },
  {
   "cell_type": "code",
   "execution_count": 6,
   "id": "95895f42-22bc-4ed5-9a21-1efbbf5cd137",
   "metadata": {},
   "outputs": [
    {
     "data": {
      "text/plain": [
       "Item_Identifier                 0\n",
       "Item_Weight                  1463\n",
       "Item_Fat_Content                0\n",
       "Item_Visibility                 0\n",
       "Item_Type                       0\n",
       "Item_MRP                        0\n",
       "Outlet_Identifier               0\n",
       "Outlet_Establishment_Year       0\n",
       "Outlet_Size                  2410\n",
       "Outlet_Location_Type            0\n",
       "Outlet_Type                     0\n",
       "Item_Outlet_Sales               0\n",
       "dtype: int64"
      ]
     },
     "execution_count": 6,
     "metadata": {},
     "output_type": "execute_result"
    }
   ],
   "source": [
    "# Check the missing values if any\n",
    "train.isnull().sum()"
   ]
  },
  {
   "cell_type": "code",
   "execution_count": 7,
   "id": "be62bd2c-cd47-4505-8b94-121cb462e9d0",
   "metadata": {},
   "outputs": [
    {
     "data": {
      "text/html": [
       "<div>\n",
       "<style scoped>\n",
       "    .dataframe tbody tr th:only-of-type {\n",
       "        vertical-align: middle;\n",
       "    }\n",
       "\n",
       "    .dataframe tbody tr th {\n",
       "        vertical-align: top;\n",
       "    }\n",
       "\n",
       "    .dataframe thead th {\n",
       "        text-align: right;\n",
       "    }\n",
       "</style>\n",
       "<table border=\"1\" class=\"dataframe\">\n",
       "  <thead>\n",
       "    <tr style=\"text-align: right;\">\n",
       "      <th></th>\n",
       "      <th>count</th>\n",
       "      <th>unique</th>\n",
       "      <th>top</th>\n",
       "      <th>freq</th>\n",
       "      <th>mean</th>\n",
       "      <th>std</th>\n",
       "      <th>min</th>\n",
       "      <th>25%</th>\n",
       "      <th>50%</th>\n",
       "      <th>75%</th>\n",
       "      <th>max</th>\n",
       "    </tr>\n",
       "  </thead>\n",
       "  <tbody>\n",
       "    <tr>\n",
       "      <th>Item_Identifier</th>\n",
       "      <td>8523</td>\n",
       "      <td>1559</td>\n",
       "      <td>FDW13</td>\n",
       "      <td>10</td>\n",
       "      <td>NaN</td>\n",
       "      <td>NaN</td>\n",
       "      <td>NaN</td>\n",
       "      <td>NaN</td>\n",
       "      <td>NaN</td>\n",
       "      <td>NaN</td>\n",
       "      <td>NaN</td>\n",
       "    </tr>\n",
       "    <tr>\n",
       "      <th>Item_Weight</th>\n",
       "      <td>7060.0</td>\n",
       "      <td>NaN</td>\n",
       "      <td>NaN</td>\n",
       "      <td>NaN</td>\n",
       "      <td>12.857645</td>\n",
       "      <td>4.643456</td>\n",
       "      <td>4.555</td>\n",
       "      <td>8.77375</td>\n",
       "      <td>12.6</td>\n",
       "      <td>16.85</td>\n",
       "      <td>21.35</td>\n",
       "    </tr>\n",
       "    <tr>\n",
       "      <th>Item_Fat_Content</th>\n",
       "      <td>8523</td>\n",
       "      <td>5</td>\n",
       "      <td>Low Fat</td>\n",
       "      <td>5089</td>\n",
       "      <td>NaN</td>\n",
       "      <td>NaN</td>\n",
       "      <td>NaN</td>\n",
       "      <td>NaN</td>\n",
       "      <td>NaN</td>\n",
       "      <td>NaN</td>\n",
       "      <td>NaN</td>\n",
       "    </tr>\n",
       "    <tr>\n",
       "      <th>Item_Visibility</th>\n",
       "      <td>8523.0</td>\n",
       "      <td>NaN</td>\n",
       "      <td>NaN</td>\n",
       "      <td>NaN</td>\n",
       "      <td>0.066132</td>\n",
       "      <td>0.051598</td>\n",
       "      <td>0.0</td>\n",
       "      <td>0.026989</td>\n",
       "      <td>0.053931</td>\n",
       "      <td>0.094585</td>\n",
       "      <td>0.328391</td>\n",
       "    </tr>\n",
       "    <tr>\n",
       "      <th>Item_Type</th>\n",
       "      <td>8523</td>\n",
       "      <td>16</td>\n",
       "      <td>Fruits and Vegetables</td>\n",
       "      <td>1232</td>\n",
       "      <td>NaN</td>\n",
       "      <td>NaN</td>\n",
       "      <td>NaN</td>\n",
       "      <td>NaN</td>\n",
       "      <td>NaN</td>\n",
       "      <td>NaN</td>\n",
       "      <td>NaN</td>\n",
       "    </tr>\n",
       "    <tr>\n",
       "      <th>Item_MRP</th>\n",
       "      <td>8523.0</td>\n",
       "      <td>NaN</td>\n",
       "      <td>NaN</td>\n",
       "      <td>NaN</td>\n",
       "      <td>140.992782</td>\n",
       "      <td>62.275067</td>\n",
       "      <td>31.29</td>\n",
       "      <td>93.8265</td>\n",
       "      <td>143.0128</td>\n",
       "      <td>185.6437</td>\n",
       "      <td>266.8884</td>\n",
       "    </tr>\n",
       "    <tr>\n",
       "      <th>Outlet_Identifier</th>\n",
       "      <td>8523</td>\n",
       "      <td>10</td>\n",
       "      <td>OUT027</td>\n",
       "      <td>935</td>\n",
       "      <td>NaN</td>\n",
       "      <td>NaN</td>\n",
       "      <td>NaN</td>\n",
       "      <td>NaN</td>\n",
       "      <td>NaN</td>\n",
       "      <td>NaN</td>\n",
       "      <td>NaN</td>\n",
       "    </tr>\n",
       "    <tr>\n",
       "      <th>Outlet_Establishment_Year</th>\n",
       "      <td>8523.0</td>\n",
       "      <td>NaN</td>\n",
       "      <td>NaN</td>\n",
       "      <td>NaN</td>\n",
       "      <td>1997.831867</td>\n",
       "      <td>8.37176</td>\n",
       "      <td>1985.0</td>\n",
       "      <td>1987.0</td>\n",
       "      <td>1999.0</td>\n",
       "      <td>2004.0</td>\n",
       "      <td>2009.0</td>\n",
       "    </tr>\n",
       "    <tr>\n",
       "      <th>Outlet_Size</th>\n",
       "      <td>6113</td>\n",
       "      <td>3</td>\n",
       "      <td>Medium</td>\n",
       "      <td>2793</td>\n",
       "      <td>NaN</td>\n",
       "      <td>NaN</td>\n",
       "      <td>NaN</td>\n",
       "      <td>NaN</td>\n",
       "      <td>NaN</td>\n",
       "      <td>NaN</td>\n",
       "      <td>NaN</td>\n",
       "    </tr>\n",
       "    <tr>\n",
       "      <th>Outlet_Location_Type</th>\n",
       "      <td>8523</td>\n",
       "      <td>3</td>\n",
       "      <td>Tier 3</td>\n",
       "      <td>3350</td>\n",
       "      <td>NaN</td>\n",
       "      <td>NaN</td>\n",
       "      <td>NaN</td>\n",
       "      <td>NaN</td>\n",
       "      <td>NaN</td>\n",
       "      <td>NaN</td>\n",
       "      <td>NaN</td>\n",
       "    </tr>\n",
       "    <tr>\n",
       "      <th>Outlet_Type</th>\n",
       "      <td>8523</td>\n",
       "      <td>4</td>\n",
       "      <td>Supermarket Type1</td>\n",
       "      <td>5577</td>\n",
       "      <td>NaN</td>\n",
       "      <td>NaN</td>\n",
       "      <td>NaN</td>\n",
       "      <td>NaN</td>\n",
       "      <td>NaN</td>\n",
       "      <td>NaN</td>\n",
       "      <td>NaN</td>\n",
       "    </tr>\n",
       "    <tr>\n",
       "      <th>Item_Outlet_Sales</th>\n",
       "      <td>8523.0</td>\n",
       "      <td>NaN</td>\n",
       "      <td>NaN</td>\n",
       "      <td>NaN</td>\n",
       "      <td>2181.288914</td>\n",
       "      <td>1706.499616</td>\n",
       "      <td>33.29</td>\n",
       "      <td>834.2474</td>\n",
       "      <td>1794.331</td>\n",
       "      <td>3101.2964</td>\n",
       "      <td>13086.9648</td>\n",
       "    </tr>\n",
       "  </tbody>\n",
       "</table>\n",
       "</div>"
      ],
      "text/plain": [
       "                            count unique                    top  freq  \\\n",
       "Item_Identifier              8523   1559                  FDW13    10   \n",
       "Item_Weight                7060.0    NaN                    NaN   NaN   \n",
       "Item_Fat_Content             8523      5                Low Fat  5089   \n",
       "Item_Visibility            8523.0    NaN                    NaN   NaN   \n",
       "Item_Type                    8523     16  Fruits and Vegetables  1232   \n",
       "Item_MRP                   8523.0    NaN                    NaN   NaN   \n",
       "Outlet_Identifier            8523     10                 OUT027   935   \n",
       "Outlet_Establishment_Year  8523.0    NaN                    NaN   NaN   \n",
       "Outlet_Size                  6113      3                 Medium  2793   \n",
       "Outlet_Location_Type         8523      3                 Tier 3  3350   \n",
       "Outlet_Type                  8523      4      Supermarket Type1  5577   \n",
       "Item_Outlet_Sales          8523.0    NaN                    NaN   NaN   \n",
       "\n",
       "                                  mean          std     min       25%  \\\n",
       "Item_Identifier                    NaN          NaN     NaN       NaN   \n",
       "Item_Weight                  12.857645     4.643456   4.555   8.77375   \n",
       "Item_Fat_Content                   NaN          NaN     NaN       NaN   \n",
       "Item_Visibility               0.066132     0.051598     0.0  0.026989   \n",
       "Item_Type                          NaN          NaN     NaN       NaN   \n",
       "Item_MRP                    140.992782    62.275067   31.29   93.8265   \n",
       "Outlet_Identifier                  NaN          NaN     NaN       NaN   \n",
       "Outlet_Establishment_Year  1997.831867      8.37176  1985.0    1987.0   \n",
       "Outlet_Size                        NaN          NaN     NaN       NaN   \n",
       "Outlet_Location_Type               NaN          NaN     NaN       NaN   \n",
       "Outlet_Type                        NaN          NaN     NaN       NaN   \n",
       "Item_Outlet_Sales          2181.288914  1706.499616   33.29  834.2474   \n",
       "\n",
       "                                50%        75%         max  \n",
       "Item_Identifier                 NaN        NaN         NaN  \n",
       "Item_Weight                    12.6      16.85       21.35  \n",
       "Item_Fat_Content                NaN        NaN         NaN  \n",
       "Item_Visibility            0.053931   0.094585    0.328391  \n",
       "Item_Type                       NaN        NaN         NaN  \n",
       "Item_MRP                   143.0128   185.6437    266.8884  \n",
       "Outlet_Identifier               NaN        NaN         NaN  \n",
       "Outlet_Establishment_Year    1999.0     2004.0      2009.0  \n",
       "Outlet_Size                     NaN        NaN         NaN  \n",
       "Outlet_Location_Type            NaN        NaN         NaN  \n",
       "Outlet_Type                     NaN        NaN         NaN  \n",
       "Item_Outlet_Sales          1794.331  3101.2964  13086.9648  "
      ]
     },
     "execution_count": 7,
     "metadata": {},
     "output_type": "execute_result"
    }
   ],
   "source": [
    "# Summary Statistics\n",
    "train.describe(include='all').T"
   ]
  },
  {
   "cell_type": "code",
   "execution_count": 8,
   "id": "6f0addfb-fbeb-4632-8c38-987263331b01",
   "metadata": {},
   "outputs": [],
   "source": [
    "# filling the missing values in the Item_Weight column using the Mean value\n",
    "train['Item_Weight'].fillna(train['Item_Weight'].mean(), inplace = True)"
   ]
  },
  {
   "cell_type": "code",
   "execution_count": 9,
   "id": "2d41fc13-c0ab-47bd-b7ae-766d1e46dd7f",
   "metadata": {},
   "outputs": [
    {
     "data": {
      "text/html": [
       "<div>\n",
       "<style scoped>\n",
       "    .dataframe tbody tr th:only-of-type {\n",
       "        vertical-align: middle;\n",
       "    }\n",
       "\n",
       "    .dataframe tbody tr th {\n",
       "        vertical-align: top;\n",
       "    }\n",
       "\n",
       "    .dataframe thead th {\n",
       "        text-align: right;\n",
       "    }\n",
       "</style>\n",
       "<table border=\"1\" class=\"dataframe\">\n",
       "  <thead>\n",
       "    <tr style=\"text-align: right;\">\n",
       "      <th>Outlet_Type</th>\n",
       "      <th>Grocery Store</th>\n",
       "      <th>Supermarket Type1</th>\n",
       "      <th>Supermarket Type2</th>\n",
       "      <th>Supermarket Type3</th>\n",
       "    </tr>\n",
       "  </thead>\n",
       "  <tbody>\n",
       "    <tr>\n",
       "      <th>Outlet_Size</th>\n",
       "      <td>Small</td>\n",
       "      <td>Small</td>\n",
       "      <td>Medium</td>\n",
       "      <td>Medium</td>\n",
       "    </tr>\n",
       "  </tbody>\n",
       "</table>\n",
       "</div>"
      ],
      "text/plain": [
       "Outlet_Type Grocery Store Supermarket Type1 Supermarket Type2  \\\n",
       "Outlet_Size         Small             Small            Medium   \n",
       "\n",
       "Outlet_Type Supermarket Type3  \n",
       "Outlet_Size            Medium  "
      ]
     },
     "execution_count": 9,
     "metadata": {},
     "output_type": "execute_result"
    }
   ],
   "source": [
    "# We know that, the Outlet_size and Outlet_Type are related to each other. So we are filling the missing \n",
    "# values of the Outlet_Size by using the values in Outlet_Type.\n",
    "# mode of the Outlet_size \n",
    "mode_of_outlet_size = pd.DataFrame(train.pivot_table(values = 'Outlet_Size', \n",
    "                                                     columns = 'Outlet_Type', aggfunc = (lambda x: x.mode())))\n",
    "mode_of_outlet_size"
   ]
  },
  {
   "cell_type": "code",
   "execution_count": 10,
   "id": "adcceaee-7fc2-4ab3-a527-4d3a52adb787",
   "metadata": {},
   "outputs": [],
   "source": [
    "# filling the missing values of Outlet_Size with the mode values\n",
    "train.loc[train['Outlet_Size'].isnull(), 'Outlet_Size'] = train.loc[train['Outlet_Size'].isnull(), \n",
    "                                                                    'Outlet_Type'].apply(lambda x: mode_of_outlet_size[x])"
   ]
  },
  {
   "cell_type": "code",
   "execution_count": 11,
   "id": "c78e2969-4ae3-4229-8cc5-2b00bf60ace9",
   "metadata": {},
   "outputs": [
    {
     "data": {
      "text/plain": [
       "Item_Identifier              0\n",
       "Item_Weight                  0\n",
       "Item_Fat_Content             0\n",
       "Item_Visibility              0\n",
       "Item_Type                    0\n",
       "Item_MRP                     0\n",
       "Outlet_Identifier            0\n",
       "Outlet_Establishment_Year    0\n",
       "Outlet_Size                  0\n",
       "Outlet_Location_Type         0\n",
       "Outlet_Type                  0\n",
       "Item_Outlet_Sales            0\n",
       "dtype: int64"
      ]
     },
     "execution_count": 11,
     "metadata": {},
     "output_type": "execute_result"
    }
   ],
   "source": [
    "train.isnull().sum()"
   ]
  },
  {
   "cell_type": "code",
   "execution_count": 12,
   "id": "9f36b1af-f6ea-4602-a4e5-a167ef7498e9",
   "metadata": {},
   "outputs": [
    {
     "name": "stdout",
     "output_type": "stream",
     "text": [
      "Numerical Features are :  ['Item_Weight', 'Item_Visibility', 'Item_MRP', 'Outlet_Establishment_Year', 'Item_Outlet_Sales']\n",
      "Categorical Features are :  ['Item_Identifier', 'Item_Fat_Content', 'Item_Type', 'Outlet_Identifier', 'Outlet_Size', 'Outlet_Location_Type', 'Outlet_Type']\n"
     ]
    }
   ],
   "source": [
    "# creating list of categorical columns for one hot encoding\n",
    "categorical_columns = [col for col in train.columns if train.dtypes[col] == 'object']\n",
    "\n",
    "# creating list of numerical columns to standardized data \n",
    "numerical_columns = [col for col in train.columns if train.dtypes[col] != 'object']\n",
    "\n",
    "print('Numerical Features are : ',numerical_columns)\n",
    "print('Categorical Features are : ',categorical_columns)"
   ]
  },
  {
   "cell_type": "code",
   "execution_count": 13,
   "id": "df797e9d-d85c-4924-9b9f-093019c66d04",
   "metadata": {},
   "outputs": [
    {
     "data": {
      "text/plain": [
       "[{'Item_Identifier': 1559},\n",
       " {'Item_Fat_Content': 5},\n",
       " {'Item_Type': 16},\n",
       " {'Outlet_Identifier': 10},\n",
       " {'Outlet_Size': 3},\n",
       " {'Outlet_Location_Type': 3},\n",
       " {'Outlet_Type': 4}]"
      ]
     },
     "execution_count": 13,
     "metadata": {},
     "output_type": "execute_result"
    }
   ],
   "source": [
    "unique_categories_count_list = [{col:len(train[col].unique())} for col in categorical_columns]    \n",
    "unique_categories_count_list"
   ]
  },
  {
   "cell_type": "code",
   "execution_count": 14,
   "id": "14dc665a-cd9d-4bcf-8b84-3baf3800e235",
   "metadata": {},
   "outputs": [
    {
     "data": {
      "text/plain": [
       "[{'Item_Fat_Content': array(['Low Fat', 'Regular', 'low fat', 'LF', 'reg'], dtype=object)},\n",
       " {'Item_Type': array(['Dairy', 'Soft Drinks', 'Meat', 'Fruits and Vegetables',\n",
       "         'Household', 'Baking Goods', 'Snack Foods', 'Frozen Foods',\n",
       "         'Breakfast', 'Health and Hygiene', 'Hard Drinks', 'Canned',\n",
       "         'Breads', 'Starchy Foods', 'Others', 'Seafood'], dtype=object)},\n",
       " {'Outlet_Identifier': array(['OUT049', 'OUT018', 'OUT010', 'OUT013', 'OUT027', 'OUT045',\n",
       "         'OUT017', 'OUT046', 'OUT035', 'OUT019'], dtype=object)},\n",
       " {'Outlet_Size': array(['Medium', 'Small', 'High'], dtype=object)},\n",
       " {'Outlet_Location_Type': array(['Tier 1', 'Tier 3', 'Tier 2'], dtype=object)},\n",
       " {'Outlet_Type': array(['Supermarket Type1', 'Supermarket Type2', 'Grocery Store',\n",
       "         'Supermarket Type3'], dtype=object)}]"
      ]
     },
     "execution_count": 14,
     "metadata": {},
     "output_type": "execute_result"
    }
   ],
   "source": [
    "unique_categories_list = [{col:train[col].unique()} for col in categorical_columns if col != 'Item_Identifier']        \n",
    "unique_categories_list"
   ]
  },
  {
   "cell_type": "code",
   "execution_count": 15,
   "id": "cc721742-ea41-4a08-baae-1cfa429178ba",
   "metadata": {},
   "outputs": [],
   "source": [
    "# As you can see the low fat and regular in item_fat_content is written differently so first we need to corre\n",
    "train = train.replace({'Item_Fat_Content': r'^reg'}, \n",
    "                      {'Item_Fat_Content': 'Regular'}, regex=True)\n",
    "train = train.replace({'Item_Fat_Content':[r'Low Fat',r'LF',r'low fat']}, \n",
    "                      {'Item_Fat_Content': 'Low Fat'}, regex = True)"
   ]
  },
  {
   "cell_type": "code",
   "execution_count": 16,
   "id": "a644ff04-9286-449a-80a7-6a7ccef0f918",
   "metadata": {},
   "outputs": [
    {
     "data": {
      "text/plain": [
       "Low Fat    5517\n",
       "Regular    3006\n",
       "Name: Item_Fat_Content, dtype: int64"
      ]
     },
     "execution_count": 16,
     "metadata": {},
     "output_type": "execute_result"
    }
   ],
   "source": [
    "train['Item_Fat_Content'].value_counts()"
   ]
  },
  {
   "cell_type": "markdown",
   "id": "839af168-a8ed-4cf2-9ad4-876307652c04",
   "metadata": {},
   "source": [
    "## Similarly, Data Cleaning and Pre-processing of Test Dataset"
   ]
  },
  {
   "cell_type": "code",
   "execution_count": 17,
   "id": "b02af95c-a6c1-43c2-b1cf-4c598cb38493",
   "metadata": {},
   "outputs": [
    {
     "data": {
      "text/plain": [
       "Item_Identifier                 0\n",
       "Item_Weight                   976\n",
       "Item_Fat_Content                0\n",
       "Item_Visibility                 0\n",
       "Item_Type                       0\n",
       "Item_MRP                        0\n",
       "Outlet_Identifier               0\n",
       "Outlet_Establishment_Year       0\n",
       "Outlet_Size                  1606\n",
       "Outlet_Location_Type            0\n",
       "Outlet_Type                     0\n",
       "dtype: int64"
      ]
     },
     "execution_count": 17,
     "metadata": {},
     "output_type": "execute_result"
    }
   ],
   "source": [
    "# Check the missing values if any\n",
    "test.isnull().sum()"
   ]
  },
  {
   "cell_type": "code",
   "execution_count": 18,
   "id": "b77a2cf2-cd52-4c1c-b94f-1a3395895f22",
   "metadata": {},
   "outputs": [],
   "source": [
    "# As you can see the low fat and regular in item_fat_content is written differently so first we need to correct it.\n",
    "train = train.replace({'Item_Fat_Content': r'^reg'}, {'Item_Fat_Content': 'Regular'}, regex=True)\n",
    "train = train.replace({'Item_Fat_Content':[r'Low Fat',r'LF',r'low fat']}, {'Item_Fat_Content': 'Low Fat'}, regex=True)"
   ]
  },
  {
   "cell_type": "code",
   "execution_count": 19,
   "id": "dba0195a-8f61-4d38-9997-3170b16d6ad0",
   "metadata": {},
   "outputs": [
    {
     "data": {
      "text/plain": [
       "Low Fat    5517\n",
       "Regular    3006\n",
       "Name: Item_Fat_Content, dtype: int64"
      ]
     },
     "execution_count": 19,
     "metadata": {},
     "output_type": "execute_result"
    }
   ],
   "source": [
    "train['Item_Fat_Content'].value_counts()"
   ]
  },
  {
   "cell_type": "code",
   "execution_count": 20,
   "id": "39621b8d-34d7-45ad-a594-4d5df996adf8",
   "metadata": {},
   "outputs": [
    {
     "data": {
      "text/plain": [
       "Item_Identifier                 0\n",
       "Item_Weight                   976\n",
       "Item_Fat_Content                0\n",
       "Item_Visibility                 0\n",
       "Item_Type                       0\n",
       "Item_MRP                        0\n",
       "Outlet_Identifier               0\n",
       "Outlet_Establishment_Year       0\n",
       "Outlet_Size                  1606\n",
       "Outlet_Location_Type            0\n",
       "Outlet_Type                     0\n",
       "dtype: int64"
      ]
     },
     "execution_count": 20,
     "metadata": {},
     "output_type": "execute_result"
    }
   ],
   "source": [
    "# Check the missing values if any\n",
    "test.isnull().sum()"
   ]
  },
  {
   "cell_type": "code",
   "execution_count": 21,
   "id": "bcd4bb6e-6a0e-45ab-a8e4-bca39f578286",
   "metadata": {},
   "outputs": [],
   "source": [
    "# filling the missing values in the Item_Weight column using the Mean value\n",
    "test['Item_Weight'].fillna(test['Item_Weight'].mean(), inplace = True)"
   ]
  },
  {
   "cell_type": "code",
   "execution_count": 22,
   "id": "096e72a3-9569-463a-847c-42207a6afcee",
   "metadata": {},
   "outputs": [
    {
     "data": {
      "text/html": [
       "<div>\n",
       "<style scoped>\n",
       "    .dataframe tbody tr th:only-of-type {\n",
       "        vertical-align: middle;\n",
       "    }\n",
       "\n",
       "    .dataframe tbody tr th {\n",
       "        vertical-align: top;\n",
       "    }\n",
       "\n",
       "    .dataframe thead th {\n",
       "        text-align: right;\n",
       "    }\n",
       "</style>\n",
       "<table border=\"1\" class=\"dataframe\">\n",
       "  <thead>\n",
       "    <tr style=\"text-align: right;\">\n",
       "      <th>Outlet_Type</th>\n",
       "      <th>Grocery Store</th>\n",
       "      <th>Supermarket Type1</th>\n",
       "      <th>Supermarket Type2</th>\n",
       "      <th>Supermarket Type3</th>\n",
       "    </tr>\n",
       "  </thead>\n",
       "  <tbody>\n",
       "    <tr>\n",
       "      <th>Outlet_Size</th>\n",
       "      <td>Small</td>\n",
       "      <td>Small</td>\n",
       "      <td>Medium</td>\n",
       "      <td>Medium</td>\n",
       "    </tr>\n",
       "  </tbody>\n",
       "</table>\n",
       "</div>"
      ],
      "text/plain": [
       "Outlet_Type Grocery Store Supermarket Type1 Supermarket Type2  \\\n",
       "Outlet_Size         Small             Small            Medium   \n",
       "\n",
       "Outlet_Type Supermarket Type3  \n",
       "Outlet_Size            Medium  "
      ]
     },
     "execution_count": 22,
     "metadata": {},
     "output_type": "execute_result"
    }
   ],
   "source": [
    "# mode of the Outlet_size \n",
    "mode_of_outlet_size1 = pd.DataFrame(test.pivot_table(values = 'Outlet_Size',\n",
    "                                                     columns = 'Outlet_Type', aggfunc = (lambda x: x.mode())))\n",
    "mode_of_outlet_size1"
   ]
  },
  {
   "cell_type": "code",
   "execution_count": 23,
   "id": "92e0511a-d158-4025-ac98-16fc1bb6df22",
   "metadata": {},
   "outputs": [],
   "source": [
    "# filling the missing values of Outlet_Size with the mode values\n",
    "test.loc[test['Outlet_Size'].isnull(), 'Outlet_Size'] = test.loc[test['Outlet_Size'].isnull(), \n",
    "                                                                 'Outlet_Type'].apply(lambda x: mode_of_outlet_size1[x])"
   ]
  },
  {
   "cell_type": "code",
   "execution_count": 24,
   "id": "5c178dbe-f6a7-4dda-b22f-c28fb1c98f90",
   "metadata": {},
   "outputs": [
    {
     "data": {
      "text/plain": [
       "Item_Identifier              0\n",
       "Item_Weight                  0\n",
       "Item_Fat_Content             0\n",
       "Item_Visibility              0\n",
       "Item_Type                    0\n",
       "Item_MRP                     0\n",
       "Outlet_Identifier            0\n",
       "Outlet_Establishment_Year    0\n",
       "Outlet_Size                  0\n",
       "Outlet_Location_Type         0\n",
       "Outlet_Type                  0\n",
       "dtype: int64"
      ]
     },
     "execution_count": 24,
     "metadata": {},
     "output_type": "execute_result"
    }
   ],
   "source": [
    "test.isnull().sum()"
   ]
  },
  {
   "cell_type": "code",
   "execution_count": 25,
   "id": "050a9ace-4173-4c09-ae21-39793d025be1",
   "metadata": {},
   "outputs": [
    {
     "data": {
      "text/plain": [
       "Low Fat    3396\n",
       "Regular    1935\n",
       "LF          206\n",
       "reg          78\n",
       "low fat      66\n",
       "Name: Item_Fat_Content, dtype: int64"
      ]
     },
     "execution_count": 25,
     "metadata": {},
     "output_type": "execute_result"
    }
   ],
   "source": [
    "test['Item_Fat_Content'].value_counts()"
   ]
  },
  {
   "cell_type": "markdown",
   "id": "e6b84852-9eea-47a9-940e-a508b7858687",
   "metadata": {},
   "source": [
    "## Data Visualisation/ Exploration\n",
    "## Univariate Plots"
   ]
  },
  {
   "cell_type": "code",
   "execution_count": 51,
   "id": "31f1fdfe-b88c-4716-8dde-2213ae92f5b1",
   "metadata": {},
   "outputs": [
    {
     "data": {
      "text/plain": [
       "Text(0.5, 0, 'Outlet_Type')"
      ]
     },
     "execution_count": 51,
     "metadata": {},
     "output_type": "execute_result"
    },
    {
     "data": {
      "image/png": "[encoded data removed]",
      "text/plain": [
       "<Figure size 1800x720 with 6 Axes>"
      ]
     },
     "metadata": {
      "needs_background": "light"
     },
     "output_type": "display_data"
    }
   ],
   "source": [
    "fig, axes = plt.subplots(2, 3, figsize=(25, 10))\n",
    "fig.suptitle('Count Plots of all Categorical Attributes')\n",
    "sns.countplot(ax=axes[0, 0], x='Item_Fat_Content' , data=train ,palette='mako')\n",
    "plt.xlabel('Item_Fat_Content', fontsize=14)\n",
    "g1=sns.countplot(ax=axes[0, 1], x='Item_Type' , data=train ,palette='rocket')\n",
    "g1.set_xticklabels(labels=['Dairy', 'Soft Drinks', 'Meat', 'Fruits Vegetables',\n",
    "                          'Household', 'Baking Goods', 'Snack Foods', 'Frozen Foods',\n",
    "                         'Breakfast', 'Health and Hygiene', 'Hard Drinks', 'Canned',\n",
    "                         'Breads', 'Starchy Foods', 'Others', 'Seafood'],rotation=25)\n",
    "plt.xlabel('Item_Type', fontsize=14)\n",
    "sns.countplot(ax=axes[0, 2], x='Outlet_Identifier' , data=train ,palette='flare')\n",
    "plt.xlabel('Outlet_Identifier', fontsize=14)\n",
    "sns.countplot(ax=axes[1, 0], x='Outlet_Size' , data=train ,palette='crest')\n",
    "plt.xlabel('Outlet_Size', fontsize=14)\n",
    "sns.countplot(ax=axes[1, 1], x='Outlet_Location_Type' , data=train ,palette='magma')\n",
    "plt.xlabel('Outlet_Location_Type', fontsize=14)\n",
    "sns.countplot(ax=axes[1, 2], x='Outlet_Type' , data=train ,palette='viridis')\n",
    "plt.xlabel('Outlet_Type', fontsize=14)"
   ]
  },
  {
   "cell_type": "markdown",
   "id": "7f24c1fd-2967-4821-bdf5-65c5fb780c76",
   "metadata": {},
   "source": [
    "Categoric columns realizations\n",
    "- Item_Fat_Content - Most items sold are low fat.\n",
    "- Item_Type - Item types that are distictly popular are fruits and vegetables and snack foods .\n",
    "- Outlet_Identifier - Sold items are ditributed evenly among outlets excluding OUT010 and OUT019 that are significanly lower.\n",
    "- Outlet_Size - Bigmart outlets are mostly medium sized in our data.\n",
    "- Outlet_Location_Type - The most common type is Tier3 .\n",
    "- Outlet_Type - By a wide margin the mode outlet type is Supermarket Type1."
   ]
  },
  {
   "cell_type": "code",
   "execution_count": 27,
   "id": "6b29376b-111f-4b75-b958-edbbc04c5f52",
   "metadata": {},
   "outputs": [
    {
     "data": {
      "image/png": "[encoded data removed]",
      "text/plain": [
       "<Figure size 1800x720 with 4 Axes>"
      ]
     },
     "metadata": {
      "needs_background": "light"
     },
     "output_type": "display_data"
    }
   ],
   "source": [
    "import datetime\n",
    "today = datetime.date.today()\n",
    "year = today.year\n",
    "outlet_age = []\n",
    "for x in train['Outlet_Establishment_Year']: \n",
    "    outlet_age.append(year-x)\n",
    "fig, axs = plt.subplots(2, 2, figsize=(25, 10))\n",
    "axs[0, 0].hist(outlet_age, color=\"maroon\")\n",
    "axs[0, 0].set_title(\"Histogram of Outlet Age\")\n",
    "axs[0, 1].scatter(train['Item_Weight'], train['Item_Outlet_Sales'], color =\"purple\")\n",
    "axs[0, 1].set_title('Item_Weight vs Item_Outlet_Sales Scatter Plot')\n",
    "axs[1, 0].scatter(train['Item_MRP'], train['Item_Outlet_Sales'], color =\"orange\")\n",
    "axs[1, 0].set_title('Item_MRP vs Item_Outlet_Sales Scatter Plot')\n",
    "axs[1, 1].scatter(train['Item_Visibility'], train['Item_Outlet_Sales'], color =\"pink\")\n",
    "axs[1, 1].set_title('Item_Visibility vs Item_Outlet_Sales Scatter Plot')\n",
    "\n",
    "for ax in axs.flat:\n",
    "    ax.set(xlabel='x-label', ylabel='y-label')\n",
    "for ax in axs.flat:\n",
    "    ax.label_outer()"
   ]
  },
  {
   "cell_type": "markdown",
   "id": "7675c314-8fa0-499d-b356-c8f0e577b43a",
   "metadata": {},
   "source": [
    "Numeric columns realizations\n",
    "- Outlet_Age - The most common outlets are 35 years old.\n",
    "- Item_Weight - The data is very spreaded, no specific pattern.\n",
    "- Item_Visibility - Appears to be spreaded as well but some concentrationaround the (0,0) indicate small visibility items are not selling well is some cases.\n",
    "- Item_MRP - Items with higher MRP tend to sell better in most cases."
   ]
  },
  {
   "cell_type": "markdown",
   "id": "e20eca99-cb73-44c3-aeea-0f8823d1b6d4",
   "metadata": {},
   "source": [
    "## Multivariate Plots"
   ]
  },
  {
   "cell_type": "markdown",
   "id": "6130dac2-cfa6-40af-873a-c9535e6732bd",
   "metadata": {},
   "source": [
    "To check the following relationships with Item_Outlet_Sales :\n",
    "Sales per item type,\n",
    "Sales per outlet type,\n",
    "Sales per outlet size,\n",
    "Sales per location type; and Correlation Matrix"
   ]
  },
  {
   "cell_type": "code",
   "execution_count": 48,
   "id": "81fbd116-840f-4424-9416-0be803d29274",
   "metadata": {},
   "outputs": [
    {
     "data": {
      "image/png": "[encoded data removed]",
      "text/plain": [
       "<Figure size 1800x720 with 4 Axes>"
      ]
     },
     "metadata": {
      "needs_background": "light"
     },
     "output_type": "display_data"
    }
   ],
   "source": [
    "fig, axes = plt.subplots(2, 2, figsize=(25, 10))\n",
    "fig.suptitle('Relationship of Item_Outlet_Sales with Other Categorical Attributes')\n",
    "g1=sns.barplot(ax=axes[0, 0], x='Item_Type' ,y='Item_Outlet_Sales', data=train ,palette='gist_rainbow')\n",
    "g1.set_xticklabels(labels=['Dairy', 'Soft Drinks', 'Meat', 'Fruits Vegetables',\n",
    "                          'Household', 'Baking Goods', 'Snack Foods', 'Frozen Foods',\n",
    "                         'Breakfast', 'Health and Hygiene', 'Hard Drinks', 'Canned',\n",
    "                         'Breads', 'Starchy Foods', 'Others', 'Seafood'],rotation=20)\n",
    "g2=sns.barplot(ax=axes[0, 1], x='Outlet_Type' ,y='Item_Outlet_Sales', data=train ,palette='magma')\n",
    "g3=sns.barplot(ax=axes[1, 0], x='Outlet_Size' ,y='Item_Outlet_Sales', data=train ,palette='flare')\n",
    "g4=sns.barplot(ax=axes[1, 1], x='Outlet_Location_Type' ,y='Item_Outlet_Sales', data=train ,palette='gist_rainbow')"
   ]
  },
  {
   "cell_type": "code",
   "execution_count": 53,
   "id": "fe272270-63cb-43c7-94f7-b0681c59c9ae",
   "metadata": {},
   "outputs": [
    {
     "data": {
      "text/plain": [
       "<AxesSubplot:>"
      ]
     },
     "execution_count": 53,
     "metadata": {},
     "output_type": "execute_result"
    },
    {
     "data": {
      "image/png": "[encoded data removed]",
      "text/plain": [
       "<Figure size 432x288 with 2 Axes>"
      ]
     },
     "metadata": {
      "needs_background": "light"
     },
     "output_type": "display_data"
    }
   ],
   "source": [
    "sns.heatmap(train.corr() ,cmap='viridis')"
   ]
  },
  {
   "cell_type": "markdown",
   "id": "730b7469-ee0e-4e6a-b8fd-c09ebbdf73af",
   "metadata": {
    "tags": []
   },
   "source": [
    "## Label Ecoding, Splitting and Scaling Data"
   ]
  },
  {
   "cell_type": "markdown",
   "id": "208a79df-312e-44df-b2a3-efcbc46b533e",
   "metadata": {},
   "source": [
    "### - All the categoorical columns are encoded using Label Encoding so that it can be properly consumed by the ML models \n",
    "### - Set X as all the columns except Item_Outlet_Sales and Y as Item_Outlet_Sales\n",
    "### - Standardize features by removing the mean and scaling to unit variance.\n",
    "### - Train-test Split"
   ]
  },
  {
   "cell_type": "code",
   "execution_count": 55,
   "id": "bce4c5a4-624d-4ee2-874d-c7398390f960",
   "metadata": {},
   "outputs": [
    {
     "name": "stdout",
     "output_type": "stream",
     "text": [
      "<class 'pandas.core.frame.DataFrame'>\n",
      "RangeIndex: 8523 entries, 0 to 8522\n",
      "Data columns (total 12 columns):\n",
      " #   Column                     Non-Null Count  Dtype  \n",
      "---  ------                     --------------  -----  \n",
      " 0   Item_Identifier            8523 non-null   int32  \n",
      " 1   Item_Weight                8523 non-null   float64\n",
      " 2   Item_Fat_Content           8523 non-null   int32  \n",
      " 3   Item_Visibility            8523 non-null   float64\n",
      " 4   Item_Type                  8523 non-null   int32  \n",
      " 5   Item_MRP                   8523 non-null   float64\n",
      " 6   Outlet_Identifier          8523 non-null   int32  \n",
      " 7   Outlet_Establishment_Year  8523 non-null   int64  \n",
      " 8   Outlet_Size                8523 non-null   int32  \n",
      " 9   Outlet_Location_Type       8523 non-null   int32  \n",
      " 10  Outlet_Type                8523 non-null   int32  \n",
      " 11  Item_Outlet_Sales          8523 non-null   float64\n",
      "dtypes: float64(4), int32(7), int64(1)\n",
      "memory usage: 566.1 KB\n"
     ]
    }
   ],
   "source": [
    "for i in train.columns:\n",
    "    if train[i].dtype=='object':\n",
    "            label_encoder=LabelEncoder()\n",
    "            train[i]=label_encoder.fit_transform(train[i])\n",
    "\n",
    "train.info()"
   ]
  },
  {
   "cell_type": "code",
   "execution_count": 56,
   "id": "01e60919-ed83-4612-be20-0fc701c35bee",
   "metadata": {},
   "outputs": [],
   "source": [
    "X = train.drop(columns='Item_Outlet_Sales', axis=1)\n",
    "Y = train['Item_Outlet_Sales']"
   ]
  },
  {
   "cell_type": "code",
   "execution_count": 57,
   "id": "70f36e98-7e29-46a6-ae17-2dca0f07fc3b",
   "metadata": {},
   "outputs": [],
   "source": [
    "scaler = StandardScaler()\n",
    "X = scaler.fit_transform(X)"
   ]
  },
  {
   "cell_type": "code",
   "execution_count": 58,
   "id": "c83d8af8-76b1-48c8-8d68-16468c0dcdb8",
   "metadata": {},
   "outputs": [],
   "source": [
    "X_train, X_test, Y_train, Y_test = train_test_split(X, Y, test_size=0.3, random_state=3)"
   ]
  },
  {
   "cell_type": "code",
   "execution_count": 59,
   "id": "8637114f-b4a0-4ab6-9e1a-94c45260799b",
   "metadata": {},
   "outputs": [
    {
     "name": "stdout",
     "output_type": "stream",
     "text": [
      "(8523, 11) (5966, 11) (2557, 11)\n"
     ]
    }
   ],
   "source": [
    "print(X.shape, X_train.shape, X_test.shape)"
   ]
  },
  {
   "cell_type": "markdown",
   "id": "970a5fb7-c202-45b2-b2b3-ddeba303f96a",
   "metadata": {},
   "source": [
    "## Model Building\n",
    "### - Store the model in a variable\n",
    "### - Fit the model using train set\n",
    "### - Predict using test set\n",
    "### - Display mean squared error (Evaluation Metric)"
   ]
  },
  {
   "cell_type": "markdown",
   "id": "39dd4f40-07a3-493e-9c48-3d1bd3ca9df4",
   "metadata": {},
   "source": [
    "## Linear Regression"
   ]
  },
  {
   "cell_type": "code",
   "execution_count": 60,
   "id": "eb73135e-cbc6-4353-84f8-a366407e6e50",
   "metadata": {},
   "outputs": [
    {
     "data": {
      "text/plain": [
       "1189.2798483760962"
      ]
     },
     "execution_count": 60,
     "metadata": {},
     "output_type": "execute_result"
    }
   ],
   "source": [
    "lin = LinearRegression(normalize=True,fit_intercept= True)\n",
    "lin.fit(X_train,Y_train)\n",
    "predlin=lin.predict(X_test)\n",
    "linmse = mean_squared_error(Y_test, predlin,squared=False)\n",
    "linmse"
   ]
  },
  {
   "cell_type": "markdown",
   "id": "1ae3f36c-6cdb-41d9-bb29-1b29fcb8ead2",
   "metadata": {},
   "source": [
    "## SVM (Support Vector Machine)"
   ]
  },
  {
   "cell_type": "code",
   "execution_count": 61,
   "id": "e43246b4-6348-4db8-b513-ed8204bf63a8",
   "metadata": {},
   "outputs": [
    {
     "data": {
      "text/plain": [
       "1419.0174795756775"
      ]
     },
     "execution_count": 61,
     "metadata": {},
     "output_type": "execute_result"
    }
   ],
   "source": [
    "svm = LinearSVR()\n",
    "svm.fit(X_train,Y_train)\n",
    "predsvm = svm.predict(X_test)\n",
    "svmse = mean_squared_error(Y_test, predsvm,squared=False)\n",
    "svmse"
   ]
  },
  {
   "cell_type": "markdown",
   "id": "81c9f8aa-fe4e-4310-9c16-044d2f987946",
   "metadata": {},
   "source": [
    "## Gradient Boosting Regression\n"
   ]
  },
  {
   "cell_type": "code",
   "execution_count": 62,
   "id": "5b61ba25-b5f0-4657-8d93-a16addfae81c",
   "metadata": {},
   "outputs": [
    {
     "data": {
      "text/plain": [
       "1065.6031214655357"
      ]
     },
     "execution_count": 62,
     "metadata": {},
     "output_type": "execute_result"
    }
   ],
   "source": [
    "gbr = GradientBoostingRegressor()\n",
    "gbr.fit(X_train,Y_train)\n",
    "predgbr = gbr.predict(X_test)\n",
    "gbrmse = mean_squared_error(Y_test, predgbr,squared=False)\n",
    "gbrmse"
   ]
  },
  {
   "cell_type": "markdown",
   "id": "6ada0086-ccb1-4a1e-975a-a408f09e172d",
   "metadata": {},
   "source": [
    "## XGBoost"
   ]
  },
  {
   "cell_type": "code",
   "execution_count": 63,
   "id": "dfe09674-44c1-4f6a-9d3a-21d72186432b",
   "metadata": {},
   "outputs": [
    {
     "data": {
      "text/plain": [
       "1174.9307585672818"
      ]
     },
     "execution_count": 63,
     "metadata": {},
     "output_type": "execute_result"
    }
   ],
   "source": [
    "xg = XGBRegressor()\n",
    "xg.fit(X_train, Y_train)\n",
    "predxg = xg.predict(X_test)\n",
    "xgmse = mean_squared_error(Y_test, predxg,squared=False)\n",
    "xgmse"
   ]
  },
  {
   "cell_type": "markdown",
   "id": "2e922fab-5143-4837-9cc5-e34e587203b1",
   "metadata": {},
   "source": [
    "## Laaso"
   ]
  },
  {
   "cell_type": "code",
   "execution_count": 64,
   "id": "2ad5635a-b5bc-4ea1-830c-4b2628c1a78b",
   "metadata": {},
   "outputs": [
    {
     "data": {
      "text/plain": [
       "1189.2788335378048"
      ]
     },
     "execution_count": 64,
     "metadata": {},
     "output_type": "execute_result"
    }
   ],
   "source": [
    "ls = Lasso(alpha = 0.01)\n",
    "ls.fit(X_train,Y_train)\n",
    "prels = ls.predict(X_test)\n",
    "lsmse = mean_squared_error(Y_test, prels,squared=False)\n",
    "lsmse"
   ]
  },
  {
   "cell_type": "markdown",
   "id": "7e3975f7-3458-4ba0-a65f-1fc1b0cdc409",
   "metadata": {},
   "source": [
    "## K Nearest Neighbors"
   ]
  },
  {
   "cell_type": "code",
   "execution_count": 65,
   "id": "7bba180e-ffe5-4770-98de-36613eee9b45",
   "metadata": {},
   "outputs": [
    {
     "data": {
      "text/plain": [
       "1157.314645126738"
      ]
     },
     "execution_count": 65,
     "metadata": {},
     "output_type": "execute_result"
    }
   ],
   "source": [
    "knn = KNeighborsRegressor()\n",
    "knn.fit(X_train,Y_train)\n",
    "predknn = knn.predict(X_test)\n",
    "knnmse = mean_squared_error(Y_test,predknn,squared=False)\n",
    "knnmse"
   ]
  },
  {
   "cell_type": "markdown",
   "id": "2712693f-f3b7-490b-b04b-4369570c867d",
   "metadata": {},
   "source": [
    "## Random Forest"
   ]
  },
  {
   "cell_type": "code",
   "execution_count": 66,
   "id": "58871100-b7f1-4290-af79-3dce5b9bb63b",
   "metadata": {},
   "outputs": [
    {
     "data": {
      "text/plain": [
       "1126.9690143073085"
      ]
     },
     "execution_count": 66,
     "metadata": {},
     "output_type": "execute_result"
    }
   ],
   "source": [
    "rfr = RandomForestRegressor(n_estimators=100, random_state=0)\n",
    "rfr.fit(X_train, Y_train)\n",
    "predrf = rfr.predict(X_test)\n",
    "rfrmse = mean_squared_error(Y_test, predrf,squared=False)\n",
    "rfrmse"
   ]
  },
  {
   "cell_type": "markdown",
   "id": "b5f0767e-e75a-4cff-8bf3-dfe113b24cab",
   "metadata": {},
   "source": [
    "## Decision Tree"
   ]
  },
  {
   "cell_type": "code",
   "execution_count": 67,
   "id": "91cb9a23-f025-496f-80ad-ace6b6dfb706",
   "metadata": {},
   "outputs": [
    {
     "data": {
      "text/plain": [
       "1536.2574373594277"
      ]
     },
     "execution_count": 67,
     "metadata": {},
     "output_type": "execute_result"
    }
   ],
   "source": [
    "dt = DecisionTreeRegressor()\n",
    "dt.fit(X_train, Y_train)\n",
    "preddt = dt.predict(X_test)\n",
    "dtmse = mean_squared_error(Y_test,preddt,squared=False)\n",
    "dtmse"
   ]
  },
  {
   "cell_type": "markdown",
   "id": "990a4bb6-2d44-4016-bc54-782e72dd4dae",
   "metadata": {},
   "source": [
    "## Ridge Regressor"
   ]
  },
  {
   "cell_type": "code",
   "execution_count": 68,
   "id": "363e9744-b0bb-4070-96cc-8d1a7f956b8a",
   "metadata": {},
   "outputs": [
    {
     "data": {
      "text/plain": [
       "1189.2815952858805"
      ]
     },
     "execution_count": 68,
     "metadata": {},
     "output_type": "execute_result"
    }
   ],
   "source": [
    "rid = linear_model.Ridge(alpha=.5)\n",
    "rid.fit(X_train,Y_train)\n",
    "predrid = rid.predict(X_test)\n",
    "ridmse = mean_squared_error(Y_test,predrid,squared=False)\n",
    "ridmse"
   ]
  },
  {
   "cell_type": "markdown",
   "id": "143fa716-a389-45f7-9e37-6e060f5bc296",
   "metadata": {},
   "source": [
    "## Elastic Net Regression"
   ]
  },
  {
   "cell_type": "code",
   "execution_count": 69,
   "id": "153263ec-6b64-4df4-8eb4-7f263b5e2e13",
   "metadata": {},
   "outputs": [
    {
     "data": {
      "text/plain": [
       "1255.2523169243784"
      ]
     },
     "execution_count": 69,
     "metadata": {},
     "output_type": "execute_result"
    }
   ],
   "source": [
    "from sklearn.linear_model import ElasticNet\n",
    "en = linear_model.ElasticNet()\n",
    "en.fit(X_train,Y_train)\n",
    "preden = en.predict(X_test)\n",
    "enmse = mean_squared_error(Y_test,preden,squared=False)\n",
    "enmse"
   ]
  },
  {
   "cell_type": "markdown",
   "id": "0fbc37fd-f5e6-44b9-937e-3f91dd108e66",
   "metadata": {},
   "source": [
    "## Stochastic Gradient Descent Regression"
   ]
  },
  {
   "cell_type": "code",
   "execution_count": 70,
   "id": "d8d29f25-6f9c-442d-97de-9bc31092f77a",
   "metadata": {},
   "outputs": [
    {
     "data": {
      "text/plain": [
       "1188.5151791733854"
      ]
     },
     "execution_count": 70,
     "metadata": {},
     "output_type": "execute_result"
    }
   ],
   "source": [
    "sgd = linear_model.SGDRegressor()\n",
    "sgd.fit(X_train,Y_train)\n",
    "predsgd = sgd.predict(X_test)\n",
    "sgdmse = mean_squared_error(Y_test,predsgd,squared=False)\n",
    "sgdmse"
   ]
  },
  {
   "cell_type": "markdown",
   "id": "b0e1ed58-179d-497c-a946-61b64b94d637",
   "metadata": {},
   "source": [
    "## Bayesian Ridge Regression"
   ]
  },
  {
   "cell_type": "code",
   "execution_count": 71,
   "id": "4016de9c-6f82-4999-8e57-91f60c98e69d",
   "metadata": {},
   "outputs": [
    {
     "data": {
      "text/plain": [
       "1189.321858611719"
      ]
     },
     "execution_count": 71,
     "metadata": {},
     "output_type": "execute_result"
    }
   ],
   "source": [
    "brr = linear_model.BayesianRidge()\n",
    "brr.fit(X_train,Y_train)\n",
    "predbrr = brr.predict(X_test)\n",
    "brrmse = mean_squared_error(Y_test,predbrr,squared=False)\n",
    "brrmse"
   ]
  },
  {
   "cell_type": "markdown",
   "id": "5c7e5eb3-a412-4cc6-8609-250debeb66d8",
   "metadata": {},
   "source": [
    "## Final Results"
   ]
  },
  {
   "cell_type": "code",
   "execution_count": 72,
   "id": "c7014453-ac35-4b92-a0da-34130a97460c",
   "metadata": {},
   "outputs": [
    {
     "data": {
      "text/html": [
       "<div>\n",
       "<style scoped>\n",
       "    .dataframe tbody tr th:only-of-type {\n",
       "        vertical-align: middle;\n",
       "    }\n",
       "\n",
       "    .dataframe tbody tr th {\n",
       "        vertical-align: top;\n",
       "    }\n",
       "\n",
       "    .dataframe thead th {\n",
       "        text-align: right;\n",
       "    }\n",
       "</style>\n",
       "<table border=\"1\" class=\"dataframe\">\n",
       "  <thead>\n",
       "    <tr style=\"text-align: right;\">\n",
       "      <th></th>\n",
       "      <th>Model</th>\n",
       "    </tr>\n",
       "    <tr>\n",
       "      <th>Score</th>\n",
       "      <th></th>\n",
       "    </tr>\n",
       "  </thead>\n",
       "  <tbody>\n",
       "    <tr>\n",
       "      <th>1065.603121</th>\n",
       "      <td>GRADIENT BOOSTING REGRESSOR</td>\n",
       "    </tr>\n",
       "    <tr>\n",
       "      <th>1126.969014</th>\n",
       "      <td>RANDOM FOREST</td>\n",
       "    </tr>\n",
       "    <tr>\n",
       "      <th>1157.314645</th>\n",
       "      <td>K NEAREST NEIGHBOR</td>\n",
       "    </tr>\n",
       "    <tr>\n",
       "      <th>1174.930759</th>\n",
       "      <td>XG BOOST</td>\n",
       "    </tr>\n",
       "    <tr>\n",
       "      <th>1188.515179</th>\n",
       "      <td>SGD REGRESSOR</td>\n",
       "    </tr>\n",
       "    <tr>\n",
       "      <th>1189.278834</th>\n",
       "      <td>LAASO</td>\n",
       "    </tr>\n",
       "    <tr>\n",
       "      <th>1189.279848</th>\n",
       "      <td>LINEAR REGRESSION</td>\n",
       "    </tr>\n",
       "    <tr>\n",
       "      <th>1189.281595</th>\n",
       "      <td>RIDGE REGRESSOR</td>\n",
       "    </tr>\n",
       "    <tr>\n",
       "      <th>1189.321859</th>\n",
       "      <td>BAYESIAN RIDGE REGRESSION</td>\n",
       "    </tr>\n",
       "    <tr>\n",
       "      <th>1419.017480</th>\n",
       "      <td>SVM</td>\n",
       "    </tr>\n",
       "    <tr>\n",
       "      <th>1536.257437</th>\n",
       "      <td>DECISION TREE</td>\n",
       "    </tr>\n",
       "  </tbody>\n",
       "</table>\n",
       "</div>"
      ],
      "text/plain": [
       "                                   Model\n",
       "Score                                   \n",
       "1065.603121  GRADIENT BOOSTING REGRESSOR\n",
       "1126.969014                RANDOM FOREST\n",
       "1157.314645           K NEAREST NEIGHBOR\n",
       "1174.930759                     XG BOOST\n",
       "1188.515179                SGD REGRESSOR\n",
       "1189.278834                        LAASO\n",
       "1189.279848            LINEAR REGRESSION\n",
       "1189.281595              RIDGE REGRESSOR\n",
       "1189.321859    BAYESIAN RIDGE REGRESSION\n",
       "1419.017480                          SVM\n",
       "1536.257437                DECISION TREE"
      ]
     },
     "execution_count": 72,
     "metadata": {},
     "output_type": "execute_result"
    }
   ],
   "source": [
    "res = pd.DataFrame({'Model' : ['LINEAR REGRESSION','SVM','GRADIENT BOOSTING REGRESSOR','XG BOOST','LAASO','K NEAREST NEIGHBOR','RANDOM FOREST'\n",
    "                               ,'DECISION TREE','RIDGE REGRESSOR','SGD REGRESSOR','BAYESIAN RIDGE REGRESSION'],\n",
    "                       'Score' : [linmse,svmse,gbrmse,xgmse,lsmse,knnmse,rfrmse,dtmse,ridmse,sgdmse,brrmse]})\n",
    "res_df = res.sort_values(by='Score',ascending=True)\n",
    "res_df = res_df.set_index('Score')\n",
    "res_df"
   ]
  },
  {
   "cell_type": "markdown",
   "id": "5c4b7941-c20f-4da1-bdf9-337939d0a670",
   "metadata": {},
   "source": [
    "# As we can see that Gradient Boosting Regressor has the least mean squared error, it is the best model for BigMart Sales prediction."
   ]
  },
  {
   "cell_type": "markdown",
   "id": "2c8db6e2-965a-4ead-8b31-1c84b712f34e",
   "metadata": {},
   "source": [
    "## Predicting the Item Outlet Sales using the Gradient Boosting Regressor "
   ]
  },
  {
   "cell_type": "code",
   "execution_count": 73,
   "id": "2ebf9982-1026-443b-a409-7f3bb8b80c40",
   "metadata": {},
   "outputs": [],
   "source": [
    "test['Outlet_Type'] = label_encoder.fit_transform(test[['Outlet_Type']])\n",
    "test['Outlet_Location_Type'] =label_encoder.fit_transform(test[[\"Outlet_Location_Type\"]])\n",
    "test['Outlet_Size'] =label_encoder.fit_transform(test[[\"Outlet_Size\"]])\n",
    "test['Item_Fat_Content'] =label_encoder.fit_transform(test[[\"Item_Fat_Content\"]])\n",
    "test['Item_Type'] =label_encoder.fit_transform(test[[\"Item_Type\"]])"
   ]
  },
  {
   "cell_type": "code",
   "execution_count": 74,
   "id": "39877fc6-06a4-4cec-903a-0de86a101894",
   "metadata": {},
   "outputs": [
    {
     "data": {
      "text/html": [
       "<div>\n",
       "<style scoped>\n",
       "    .dataframe tbody tr th:only-of-type {\n",
       "        vertical-align: middle;\n",
       "    }\n",
       "\n",
       "    .dataframe tbody tr th {\n",
       "        vertical-align: top;\n",
       "    }\n",
       "\n",
       "    .dataframe thead th {\n",
       "        text-align: right;\n",
       "    }\n",
       "</style>\n",
       "<table border=\"1\" class=\"dataframe\">\n",
       "  <thead>\n",
       "    <tr style=\"text-align: right;\">\n",
       "      <th></th>\n",
       "      <th>Item_Identifier</th>\n",
       "      <th>Item_Weight</th>\n",
       "      <th>Item_Fat_Content</th>\n",
       "      <th>Item_Visibility</th>\n",
       "      <th>Item_Type</th>\n",
       "      <th>Item_MRP</th>\n",
       "      <th>Outlet_Identifier</th>\n",
       "      <th>Outlet_Size</th>\n",
       "      <th>Outlet_Location_Type</th>\n",
       "      <th>Outlet_Type</th>\n",
       "    </tr>\n",
       "  </thead>\n",
       "  <tbody>\n",
       "    <tr>\n",
       "      <th>0</th>\n",
       "      <td>FDW58</td>\n",
       "      <td>20.750000</td>\n",
       "      <td>1</td>\n",
       "      <td>0.007565</td>\n",
       "      <td>13</td>\n",
       "      <td>107.8622</td>\n",
       "      <td>OUT049</td>\n",
       "      <td>1</td>\n",
       "      <td>0</td>\n",
       "      <td>1</td>\n",
       "    </tr>\n",
       "    <tr>\n",
       "      <th>1</th>\n",
       "      <td>FDW14</td>\n",
       "      <td>8.300000</td>\n",
       "      <td>4</td>\n",
       "      <td>0.038428</td>\n",
       "      <td>4</td>\n",
       "      <td>87.3198</td>\n",
       "      <td>OUT017</td>\n",
       "      <td>2</td>\n",
       "      <td>1</td>\n",
       "      <td>1</td>\n",
       "    </tr>\n",
       "    <tr>\n",
       "      <th>2</th>\n",
       "      <td>NCN55</td>\n",
       "      <td>14.600000</td>\n",
       "      <td>1</td>\n",
       "      <td>0.099575</td>\n",
       "      <td>11</td>\n",
       "      <td>241.7538</td>\n",
       "      <td>OUT010</td>\n",
       "      <td>2</td>\n",
       "      <td>2</td>\n",
       "      <td>0</td>\n",
       "    </tr>\n",
       "    <tr>\n",
       "      <th>3</th>\n",
       "      <td>FDQ58</td>\n",
       "      <td>7.315000</td>\n",
       "      <td>1</td>\n",
       "      <td>0.015388</td>\n",
       "      <td>13</td>\n",
       "      <td>155.0340</td>\n",
       "      <td>OUT017</td>\n",
       "      <td>2</td>\n",
       "      <td>1</td>\n",
       "      <td>1</td>\n",
       "    </tr>\n",
       "    <tr>\n",
       "      <th>4</th>\n",
       "      <td>FDY38</td>\n",
       "      <td>12.695633</td>\n",
       "      <td>2</td>\n",
       "      <td>0.118599</td>\n",
       "      <td>4</td>\n",
       "      <td>234.2300</td>\n",
       "      <td>OUT027</td>\n",
       "      <td>1</td>\n",
       "      <td>2</td>\n",
       "      <td>3</td>\n",
       "    </tr>\n",
       "    <tr>\n",
       "      <th>...</th>\n",
       "      <td>...</td>\n",
       "      <td>...</td>\n",
       "      <td>...</td>\n",
       "      <td>...</td>\n",
       "      <td>...</td>\n",
       "      <td>...</td>\n",
       "      <td>...</td>\n",
       "      <td>...</td>\n",
       "      <td>...</td>\n",
       "      <td>...</td>\n",
       "    </tr>\n",
       "    <tr>\n",
       "      <th>5676</th>\n",
       "      <td>FDB58</td>\n",
       "      <td>10.500000</td>\n",
       "      <td>2</td>\n",
       "      <td>0.013496</td>\n",
       "      <td>13</td>\n",
       "      <td>141.3154</td>\n",
       "      <td>OUT046</td>\n",
       "      <td>2</td>\n",
       "      <td>0</td>\n",
       "      <td>1</td>\n",
       "    </tr>\n",
       "    <tr>\n",
       "      <th>5677</th>\n",
       "      <td>FDD47</td>\n",
       "      <td>7.600000</td>\n",
       "      <td>2</td>\n",
       "      <td>0.142991</td>\n",
       "      <td>15</td>\n",
       "      <td>169.1448</td>\n",
       "      <td>OUT018</td>\n",
       "      <td>1</td>\n",
       "      <td>2</td>\n",
       "      <td>2</td>\n",
       "    </tr>\n",
       "    <tr>\n",
       "      <th>5678</th>\n",
       "      <td>NCO17</td>\n",
       "      <td>10.000000</td>\n",
       "      <td>1</td>\n",
       "      <td>0.073529</td>\n",
       "      <td>8</td>\n",
       "      <td>118.7440</td>\n",
       "      <td>OUT045</td>\n",
       "      <td>2</td>\n",
       "      <td>1</td>\n",
       "      <td>1</td>\n",
       "    </tr>\n",
       "    <tr>\n",
       "      <th>5679</th>\n",
       "      <td>FDJ26</td>\n",
       "      <td>15.300000</td>\n",
       "      <td>2</td>\n",
       "      <td>0.000000</td>\n",
       "      <td>3</td>\n",
       "      <td>214.6218</td>\n",
       "      <td>OUT017</td>\n",
       "      <td>2</td>\n",
       "      <td>1</td>\n",
       "      <td>1</td>\n",
       "    </tr>\n",
       "    <tr>\n",
       "      <th>5680</th>\n",
       "      <td>FDU37</td>\n",
       "      <td>9.500000</td>\n",
       "      <td>2</td>\n",
       "      <td>0.104720</td>\n",
       "      <td>3</td>\n",
       "      <td>79.7960</td>\n",
       "      <td>OUT045</td>\n",
       "      <td>2</td>\n",
       "      <td>1</td>\n",
       "      <td>1</td>\n",
       "    </tr>\n",
       "  </tbody>\n",
       "</table>\n",
       "<p>5681 rows × 10 columns</p>\n",
       "</div>"
      ],
      "text/plain": [
       "     Item_Identifier  Item_Weight  Item_Fat_Content  Item_Visibility  \\\n",
       "0              FDW58    20.750000                 1         0.007565   \n",
       "1              FDW14     8.300000                 4         0.038428   \n",
       "2              NCN55    14.600000                 1         0.099575   \n",
       "3              FDQ58     7.315000                 1         0.015388   \n",
       "4              FDY38    12.695633                 2         0.118599   \n",
       "...              ...          ...               ...              ...   \n",
       "5676           FDB58    10.500000                 2         0.013496   \n",
       "5677           FDD47     7.600000                 2         0.142991   \n",
       "5678           NCO17    10.000000                 1         0.073529   \n",
       "5679           FDJ26    15.300000                 2         0.000000   \n",
       "5680           FDU37     9.500000                 2         0.104720   \n",
       "\n",
       "      Item_Type  Item_MRP Outlet_Identifier  Outlet_Size  \\\n",
       "0            13  107.8622            OUT049            1   \n",
       "1             4   87.3198            OUT017            2   \n",
       "2            11  241.7538            OUT010            2   \n",
       "3            13  155.0340            OUT017            2   \n",
       "4             4  234.2300            OUT027            1   \n",
       "...         ...       ...               ...          ...   \n",
       "5676         13  141.3154            OUT046            2   \n",
       "5677         15  169.1448            OUT018            1   \n",
       "5678          8  118.7440            OUT045            2   \n",
       "5679          3  214.6218            OUT017            2   \n",
       "5680          3   79.7960            OUT045            2   \n",
       "\n",
       "      Outlet_Location_Type  Outlet_Type  \n",
       "0                        0            1  \n",
       "1                        1            1  \n",
       "2                        2            0  \n",
       "3                        1            1  \n",
       "4                        2            3  \n",
       "...                    ...          ...  \n",
       "5676                     0            1  \n",
       "5677                     2            2  \n",
       "5678                     1            1  \n",
       "5679                     1            1  \n",
       "5680                     1            1  \n",
       "\n",
       "[5681 rows x 10 columns]"
      ]
     },
     "execution_count": 74,
     "metadata": {},
     "output_type": "execute_result"
    }
   ],
   "source": [
    "test.drop('Outlet_Establishment_Year',axis=1)"
   ]
  },
  {
   "cell_type": "code",
   "execution_count": 75,
   "id": "055392f7-3b88-40b3-9d12-db0414110cfa",
   "metadata": {},
   "outputs": [
    {
     "data": {
      "text/html": [
       "<div>\n",
       "<style scoped>\n",
       "    .dataframe tbody tr th:only-of-type {\n",
       "        vertical-align: middle;\n",
       "    }\n",
       "\n",
       "    .dataframe tbody tr th {\n",
       "        vertical-align: top;\n",
       "    }\n",
       "\n",
       "    .dataframe thead th {\n",
       "        text-align: right;\n",
       "    }\n",
       "</style>\n",
       "<table border=\"1\" class=\"dataframe\">\n",
       "  <thead>\n",
       "    <tr style=\"text-align: right;\">\n",
       "      <th></th>\n",
       "      <th>Item_Identifier</th>\n",
       "      <th>Outlet_Identifier</th>\n",
       "    </tr>\n",
       "  </thead>\n",
       "  <tbody>\n",
       "    <tr>\n",
       "      <th>0</th>\n",
       "      <td>FDW58</td>\n",
       "      <td>OUT049</td>\n",
       "    </tr>\n",
       "    <tr>\n",
       "      <th>1</th>\n",
       "      <td>FDW14</td>\n",
       "      <td>OUT017</td>\n",
       "    </tr>\n",
       "    <tr>\n",
       "      <th>2</th>\n",
       "      <td>NCN55</td>\n",
       "      <td>OUT010</td>\n",
       "    </tr>\n",
       "    <tr>\n",
       "      <th>3</th>\n",
       "      <td>FDQ58</td>\n",
       "      <td>OUT017</td>\n",
       "    </tr>\n",
       "    <tr>\n",
       "      <th>4</th>\n",
       "      <td>FDY38</td>\n",
       "      <td>OUT027</td>\n",
       "    </tr>\n",
       "  </tbody>\n",
       "</table>\n",
       "</div>"
      ],
      "text/plain": [
       "  Item_Identifier Outlet_Identifier\n",
       "0           FDW58            OUT049\n",
       "1           FDW14            OUT017\n",
       "2           NCN55            OUT010\n",
       "3           FDQ58            OUT017\n",
       "4           FDY38            OUT027"
      ]
     },
     "execution_count": 75,
     "metadata": {},
     "output_type": "execute_result"
    }
   ],
   "source": [
    "final = pd.DataFrame(data=test ,columns =(\"Item_Identifier\",\"Outlet_Identifier\"))\n",
    "final.head()"
   ]
  },
  {
   "cell_type": "code",
   "execution_count": 76,
   "id": "5cf7b6ec-6f9e-45f7-b0e8-b31534870c2c",
   "metadata": {},
   "outputs": [],
   "source": [
    "tst = test\n",
    "tst['Item_Identifier'] =label_encoder.fit_transform(tst[[\"Item_Identifier\"]])\n",
    "tst['Outlet_Identifier'] =label_encoder.fit_transform(tst[[\"Outlet_Identifier\"]])"
   ]
  },
  {
   "cell_type": "code",
   "execution_count": 77,
   "id": "f6c77376-695d-4a2b-b220-d775c9b2bb3d",
   "metadata": {},
   "outputs": [],
   "source": [
    "ios = gbr.predict(tst)"
   ]
  },
  {
   "cell_type": "code",
   "execution_count": 78,
   "id": "1781eb9a-c423-40f1-a5cd-579f57ba5339",
   "metadata": {},
   "outputs": [
    {
     "data": {
      "text/plain": [
       "array([7046.15593121, 7036.51091764, 6093.28821557, ..., 7036.51091764,\n",
       "       7036.51091764, 7036.51091764])"
      ]
     },
     "execution_count": 78,
     "metadata": {},
     "output_type": "execute_result"
    }
   ],
   "source": [
    "ios"
   ]
  },
  {
   "cell_type": "code",
   "execution_count": 79,
   "id": "a6573b3d-f26d-4f54-9226-0282f1ce2425",
   "metadata": {},
   "outputs": [],
   "source": [
    "df = pd.DataFrame(data = ios)"
   ]
  },
  {
   "cell_type": "code",
   "execution_count": 80,
   "id": "6ef810a8-41f2-45c3-93d4-0120ef813f96",
   "metadata": {},
   "outputs": [
    {
     "data": {
      "text/html": [
       "<div>\n",
       "<style scoped>\n",
       "    .dataframe tbody tr th:only-of-type {\n",
       "        vertical-align: middle;\n",
       "    }\n",
       "\n",
       "    .dataframe tbody tr th {\n",
       "        vertical-align: top;\n",
       "    }\n",
       "\n",
       "    .dataframe thead th {\n",
       "        text-align: right;\n",
       "    }\n",
       "</style>\n",
       "<table border=\"1\" class=\"dataframe\">\n",
       "  <thead>\n",
       "    <tr style=\"text-align: right;\">\n",
       "      <th></th>\n",
       "      <th>Item_Identifier</th>\n",
       "      <th>Outlet_Identifier</th>\n",
       "      <th>Item_Outlet_Sales</th>\n",
       "    </tr>\n",
       "  </thead>\n",
       "  <tbody>\n",
       "    <tr>\n",
       "      <th>0</th>\n",
       "      <td>FDW58</td>\n",
       "      <td>OUT049</td>\n",
       "      <td>7046.155931</td>\n",
       "    </tr>\n",
       "    <tr>\n",
       "      <th>1</th>\n",
       "      <td>FDW14</td>\n",
       "      <td>OUT017</td>\n",
       "      <td>7036.510918</td>\n",
       "    </tr>\n",
       "    <tr>\n",
       "      <th>2</th>\n",
       "      <td>NCN55</td>\n",
       "      <td>OUT010</td>\n",
       "      <td>6093.288216</td>\n",
       "    </tr>\n",
       "    <tr>\n",
       "      <th>3</th>\n",
       "      <td>FDQ58</td>\n",
       "      <td>OUT017</td>\n",
       "      <td>7036.510918</td>\n",
       "    </tr>\n",
       "    <tr>\n",
       "      <th>4</th>\n",
       "      <td>FDY38</td>\n",
       "      <td>OUT027</td>\n",
       "      <td>7754.638537</td>\n",
       "    </tr>\n",
       "    <tr>\n",
       "      <th>...</th>\n",
       "      <td>...</td>\n",
       "      <td>...</td>\n",
       "      <td>...</td>\n",
       "    </tr>\n",
       "    <tr>\n",
       "      <th>5676</th>\n",
       "      <td>FDB58</td>\n",
       "      <td>OUT046</td>\n",
       "      <td>7046.155931</td>\n",
       "    </tr>\n",
       "    <tr>\n",
       "      <th>5677</th>\n",
       "      <td>FDD47</td>\n",
       "      <td>OUT018</td>\n",
       "      <td>7754.638537</td>\n",
       "    </tr>\n",
       "    <tr>\n",
       "      <th>5678</th>\n",
       "      <td>NCO17</td>\n",
       "      <td>OUT045</td>\n",
       "      <td>7036.510918</td>\n",
       "    </tr>\n",
       "    <tr>\n",
       "      <th>5679</th>\n",
       "      <td>FDJ26</td>\n",
       "      <td>OUT017</td>\n",
       "      <td>7036.510918</td>\n",
       "    </tr>\n",
       "    <tr>\n",
       "      <th>5680</th>\n",
       "      <td>FDU37</td>\n",
       "      <td>OUT045</td>\n",
       "      <td>7036.510918</td>\n",
       "    </tr>\n",
       "  </tbody>\n",
       "</table>\n",
       "<p>5681 rows × 3 columns</p>\n",
       "</div>"
      ],
      "text/plain": [
       "     Item_Identifier Outlet_Identifier  Item_Outlet_Sales\n",
       "0              FDW58            OUT049        7046.155931\n",
       "1              FDW14            OUT017        7036.510918\n",
       "2              NCN55            OUT010        6093.288216\n",
       "3              FDQ58            OUT017        7036.510918\n",
       "4              FDY38            OUT027        7754.638537\n",
       "...              ...               ...                ...\n",
       "5676           FDB58            OUT046        7046.155931\n",
       "5677           FDD47            OUT018        7754.638537\n",
       "5678           NCO17            OUT045        7036.510918\n",
       "5679           FDJ26            OUT017        7036.510918\n",
       "5680           FDU37            OUT045        7036.510918\n",
       "\n",
       "[5681 rows x 3 columns]"
      ]
     },
     "execution_count": 80,
     "metadata": {},
     "output_type": "execute_result"
    }
   ],
   "source": [
    "final['Item_Outlet_Sales'] = df\n",
    "final"
   ]
  },
  {
   "cell_type": "code",
   "execution_count": 81,
   "id": "3e9dca0b-a0ed-4929-a44b-1a76697306cf",
   "metadata": {},
   "outputs": [
    {
     "data": {
      "text/html": [
       "<div>\n",
       "<style scoped>\n",
       "    .dataframe tbody tr th:only-of-type {\n",
       "        vertical-align: middle;\n",
       "    }\n",
       "\n",
       "    .dataframe tbody tr th {\n",
       "        vertical-align: top;\n",
       "    }\n",
       "\n",
       "    .dataframe thead th {\n",
       "        text-align: right;\n",
       "    }\n",
       "</style>\n",
       "<table border=\"1\" class=\"dataframe\">\n",
       "  <thead>\n",
       "    <tr style=\"text-align: right;\">\n",
       "      <th></th>\n",
       "      <th>Item_Identifier</th>\n",
       "      <th>Outlet_Identifier</th>\n",
       "      <th>Item_Outlet_Sales</th>\n",
       "    </tr>\n",
       "  </thead>\n",
       "  <tbody>\n",
       "    <tr>\n",
       "      <th>0</th>\n",
       "      <td>FDW58</td>\n",
       "      <td>OUT049</td>\n",
       "      <td>7046.155931</td>\n",
       "    </tr>\n",
       "    <tr>\n",
       "      <th>1</th>\n",
       "      <td>FDW14</td>\n",
       "      <td>OUT017</td>\n",
       "      <td>7036.510918</td>\n",
       "    </tr>\n",
       "    <tr>\n",
       "      <th>2</th>\n",
       "      <td>NCN55</td>\n",
       "      <td>OUT010</td>\n",
       "      <td>6093.288216</td>\n",
       "    </tr>\n",
       "    <tr>\n",
       "      <th>3</th>\n",
       "      <td>FDQ58</td>\n",
       "      <td>OUT017</td>\n",
       "      <td>7036.510918</td>\n",
       "    </tr>\n",
       "    <tr>\n",
       "      <th>4</th>\n",
       "      <td>FDY38</td>\n",
       "      <td>OUT027</td>\n",
       "      <td>7754.638537</td>\n",
       "    </tr>\n",
       "    <tr>\n",
       "      <th>5</th>\n",
       "      <td>FDH56</td>\n",
       "      <td>OUT046</td>\n",
       "      <td>7046.155931</td>\n",
       "    </tr>\n",
       "    <tr>\n",
       "      <th>6</th>\n",
       "      <td>FDL48</td>\n",
       "      <td>OUT018</td>\n",
       "      <td>6803.268642</td>\n",
       "    </tr>\n",
       "    <tr>\n",
       "      <th>7</th>\n",
       "      <td>FDC48</td>\n",
       "      <td>OUT027</td>\n",
       "      <td>6803.268642</td>\n",
       "    </tr>\n",
       "  </tbody>\n",
       "</table>\n",
       "</div>"
      ],
      "text/plain": [
       "  Item_Identifier Outlet_Identifier  Item_Outlet_Sales\n",
       "0           FDW58            OUT049        7046.155931\n",
       "1           FDW14            OUT017        7036.510918\n",
       "2           NCN55            OUT010        6093.288216\n",
       "3           FDQ58            OUT017        7036.510918\n",
       "4           FDY38            OUT027        7754.638537\n",
       "5           FDH56            OUT046        7046.155931\n",
       "6           FDL48            OUT018        6803.268642\n",
       "7           FDC48            OUT027        6803.268642"
      ]
     },
     "execution_count": 81,
     "metadata": {},
     "output_type": "execute_result"
    }
   ],
   "source": [
    "dv = final.iloc[:8]\n",
    "dv"
   ]
  },
  {
   "cell_type": "code",
   "execution_count": 83,
   "id": "b26e529a-0418-4db4-b556-b82e2b3ca7ec",
   "metadata": {},
   "outputs": [
    {
     "data": {
      "text/plain": [
       "<BarContainer object of 8 artists>"
      ]
     },
     "execution_count": 83,
     "metadata": {},
     "output_type": "execute_result"
    },
    {
     "data": {
      "image/png": "[encoded data removed]",
      "text/plain": [
       "<Figure size 432x288 with 1 Axes>"
      ]
     },
     "metadata": {
      "needs_background": "light"
     },
     "output_type": "display_data"
    }
   ],
   "source": [
    "plt.bar(dv['Item_Identifier'],dv['Item_Outlet_Sales'])"
   ]
  },
  {
   "cell_type": "code",
   "execution_count": 84,
   "id": "cae521be-ebf9-4d5b-887c-0667356b34fe",
   "metadata": {},
   "outputs": [
    {
     "data": {
      "text/html": [
       "<div>\n",
       "<style scoped>\n",
       "    .dataframe tbody tr th:only-of-type {\n",
       "        vertical-align: middle;\n",
       "    }\n",
       "\n",
       "    .dataframe tbody tr th {\n",
       "        vertical-align: top;\n",
       "    }\n",
       "\n",
       "    .dataframe thead th {\n",
       "        text-align: right;\n",
       "    }\n",
       "</style>\n",
       "<table border=\"1\" class=\"dataframe\">\n",
       "  <thead>\n",
       "    <tr style=\"text-align: right;\">\n",
       "      <th></th>\n",
       "      <th>Item_Identifier</th>\n",
       "      <th>Outlet_Identifier</th>\n",
       "      <th>Item_Outlet_Sales</th>\n",
       "    </tr>\n",
       "  </thead>\n",
       "  <tbody>\n",
       "    <tr>\n",
       "      <th>4983</th>\n",
       "      <td>FDN24</td>\n",
       "      <td>OUT013</td>\n",
       "      <td>4783.886036</td>\n",
       "    </tr>\n",
       "    <tr>\n",
       "      <th>2303</th>\n",
       "      <td>FDE24</td>\n",
       "      <td>OUT013</td>\n",
       "      <td>4783.886036</td>\n",
       "    </tr>\n",
       "    <tr>\n",
       "      <th>3948</th>\n",
       "      <td>FDW36</td>\n",
       "      <td>OUT013</td>\n",
       "      <td>4935.353698</td>\n",
       "    </tr>\n",
       "    <tr>\n",
       "      <th>2931</th>\n",
       "      <td>FDU48</td>\n",
       "      <td>OUT013</td>\n",
       "      <td>4935.353698</td>\n",
       "    </tr>\n",
       "    <tr>\n",
       "      <th>3580</th>\n",
       "      <td>FDZ48</td>\n",
       "      <td>OUT013</td>\n",
       "      <td>4935.353698</td>\n",
       "    </tr>\n",
       "  </tbody>\n",
       "</table>\n",
       "</div>"
      ],
      "text/plain": [
       "     Item_Identifier Outlet_Identifier  Item_Outlet_Sales\n",
       "4983           FDN24            OUT013        4783.886036\n",
       "2303           FDE24            OUT013        4783.886036\n",
       "3948           FDW36            OUT013        4935.353698\n",
       "2931           FDU48            OUT013        4935.353698\n",
       "3580           FDZ48            OUT013        4935.353698"
      ]
     },
     "execution_count": 84,
     "metadata": {},
     "output_type": "execute_result"
    }
   ],
   "source": [
    "final_df = final.sort_values(by='Item_Outlet_Sales')\n",
    "final_df.head()"
   ]
  },
  {
   "cell_type": "markdown",
   "id": "a7a866fc-fb8d-425b-ae0a-751206ad44d5",
   "metadata": {},
   "source": [
    "# As we can see from above dataframe, Outlet OUT049 has the most sales and Item FDX24 had the most sales."
   ]
  }
 ],
 "metadata": {
  "kernelspec": {
   "display_name": "Python 3 (ipykernel)",
   "language": "python",
   "name": "python3"
  },
  "language_info": {
   "codemirror_mode": {
    "name": "ipython",
    "version": 3
   },
   "file_extension": ".py",
   "mimetype": "text/x-python",
   "name": "python",
   "nbconvert_exporter": "python",
   "pygments_lexer": "ipython3",
   "version": "3.9.6"
  }
 },
 "nbformat": 4,
 "nbformat_minor": 5
}
